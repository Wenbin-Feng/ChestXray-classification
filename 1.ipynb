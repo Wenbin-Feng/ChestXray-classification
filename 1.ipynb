{
 "cells": [
  {
   "cell_type": "code",
   "execution_count": 1,
   "id": "a24d6c49",
   "metadata": {},
   "outputs": [
    {
     "name": "stderr",
     "output_type": "stream",
     "text": [
      "/home/ubuntu/anaconda3/envs/torch/lib/python3.10/site-packages/timm/models/registry.py:4: FutureWarning: Importing from timm.models.registry is deprecated, please import via timm.models\n",
      "  warnings.warn(f\"Importing from {__name__} is deprecated, please import via timm.models\", FutureWarning)\n",
      "/home/ubuntu/anaconda3/envs/torch/lib/python3.10/site-packages/timm/models/layers/__init__.py:48: FutureWarning: Importing from timm.models.layers is deprecated, please import via timm.layers\n",
      "  warnings.warn(f\"Importing from {__name__} is deprecated, please import via timm.layers\", FutureWarning)\n",
      "/home/ubuntu/anaconda3/envs/torch/lib/python3.10/site-packages/timm/models/helpers.py:7: FutureWarning: Importing from timm.models.helpers is deprecated, please import via timm.models\n",
      "  warnings.warn(f\"Importing from {__name__} is deprecated, please import via timm.models\", FutureWarning)\n"
     ]
    }
   ],
   "source": [
    "from Vit import VisionTransformer\n",
    "import torch\n",
    "from model import CatDogClassifier\n",
    "from PIL import Image\n",
    "from datahelper import transform,test_transform\n",
    "\n",
    "d = {0:\"cat\", 1:\"dog\"}  \n",
    "model = CatDogClassifier(num_classes=2, img_size=224)\n",
    "model.load_state_dict(torch.load('cat_dog_model.pth'))\n",
    "model.eval()\n",
    "img = Image.open(\"/home/ubuntu/DETR/5.06组会/cat_dog/dog/dog.53.jpg\").convert('RGB')\n",
    "img = test_transform(img).unsqueeze(0)  # 添加batch维度\n",
    "\n",
    "img = img.to('cuda' if torch.cuda.is_available() else 'cpu')\n",
    "model = model.to('cuda' if torch.cuda.is_available() else 'cpu')"
   ]
  },
  {
   "cell_type": "code",
   "execution_count": 9,
   "id": "19167b0d",
   "metadata": {},
   "outputs": [
    {
     "name": "stdout",
     "output_type": "stream",
     "text": [
      "torch.Size([1, 197, 768])\n"
     ]
    }
   ],
   "source": [
    "with torch.no_grad():\n",
    "    x = model.vit.vit(img).last_hidden_state\n",
    "    print(x.shape)"
   ]
  },
  {
   "cell_type": "code",
   "execution_count": null,
   "id": "952e9d2c",
   "metadata": {},
   "outputs": [
    {
     "name": "stdout",
     "output_type": "stream",
     "text": [
      "torch.Size([1, 768])\n",
      "torch.Size([1, 2])\n"
     ]
    }
   ],
   "source": [
    "x = x[:,0]\n",
    "print(x.shape)\n",
    "x = model.classifier(x)\n",
    "print(x.shape)\n"
   ]
  }
 ],
 "metadata": {
  "kernelspec": {
   "display_name": "torch",
   "language": "python",
   "name": "python3"
  },
  "language_info": {
   "codemirror_mode": {
    "name": "ipython",
    "version": 3
   },
   "file_extension": ".py",
   "mimetype": "text/x-python",
   "name": "python",
   "nbconvert_exporter": "python",
   "pygments_lexer": "ipython3",
   "version": "3.10.17"
  }
 },
 "nbformat": 4,
 "nbformat_minor": 5
}
